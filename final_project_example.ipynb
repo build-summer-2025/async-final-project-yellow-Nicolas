{
 "cells": [
  {
   "cell_type": "code",
   "execution_count": 1,
   "metadata": {},
   "outputs": [
    {
     "name": "stdout",
     "output_type": "stream",
     "text": [
      "<class 'pandas.core.frame.DataFrame'>\n",
      "RangeIndex: 205 entries, 0 to 204\n",
      "Data columns (total 16 columns):\n",
      " #   Column                   Non-Null Count  Dtype \n",
      "---  ------                   --------------  ----- \n",
      " 0   Animal                   205 non-null    object\n",
      " 1   Height (cm)              205 non-null    object\n",
      " 2   Weight (kg)              205 non-null    object\n",
      " 3   Color                    205 non-null    object\n",
      " 4   Lifespan (years)         205 non-null    object\n",
      " 5   Diet                     205 non-null    object\n",
      " 6   Habitat                  205 non-null    object\n",
      " 7   Predators                205 non-null    object\n",
      " 8   Average Speed (km/h)     205 non-null    object\n",
      " 9   Countries Found          205 non-null    object\n",
      " 10  Conservation Status      205 non-null    object\n",
      " 11  Family                   205 non-null    object\n",
      " 12  Gestation Period (days)  205 non-null    object\n",
      " 13  Top Speed (km/h)         205 non-null    object\n",
      " 14  Social Structure         205 non-null    object\n",
      " 15  Offspring per Birth      205 non-null    object\n",
      "dtypes: object(16)\n",
      "memory usage: 25.8+ KB\n"
     ]
    },
    {
     "data": {
      "text/plain": [
       "Animal                     0\n",
       "Height (cm)                0\n",
       "Weight (kg)                0\n",
       "Color                      0\n",
       "Lifespan (years)           0\n",
       "Diet                       0\n",
       "Habitat                    0\n",
       "Predators                  0\n",
       "Average Speed (km/h)       0\n",
       "Countries Found            0\n",
       "Conservation Status        0\n",
       "Family                     0\n",
       "Gestation Period (days)    0\n",
       "Top Speed (km/h)           0\n",
       "Social Structure           0\n",
       "Offspring per Birth        0\n",
       "dtype: int64"
      ]
     },
     "execution_count": 1,
     "metadata": {},
     "output_type": "execute_result"
    }
   ],
   "source": [
    "# Import necessary libraries\n",
    "import pandas as pd\n",
    "import seaborn as sns\n",
    "import matplotlib.pyplot as plt\n",
    "\n",
    "# Load the Titanic dataset. Replace 'titanic.csv' with your own dataset file for your project.\n",
    "# Ensure the dataset file exists and is in the same directory as this jupyter notebook.\n",
    "df = pd.read_csv('Animal_Dataset.csv')\n",
    "\n",
    "# Display the first few rows of the dataframe to ensure it is loaded correctly\n",
    "df.head()\n",
    "df.info()\n",
    "df.describe()\n",
    "df.isna().sum()\n"
   ]
  }
 ],
 "metadata": {
  "kernelspec": {
   "display_name": "Python 3",
   "language": "python",
   "name": "python3"
  },
  "language_info": {
   "codemirror_mode": {
    "name": "ipython",
    "version": 3
   },
   "file_extension": ".py",
   "mimetype": "text/x-python",
   "name": "python",
   "nbconvert_exporter": "python",
   "pygments_lexer": "ipython3",
   "version": "3.13.3"
  }
 },
 "nbformat": 4,
 "nbformat_minor": 2
}
